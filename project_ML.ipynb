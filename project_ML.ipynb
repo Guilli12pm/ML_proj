{
  "nbformat": 4,
  "nbformat_minor": 0,
  "metadata": {
    "colab": {
      "name": "project_ML.ipynb",
      "version": "0.3.2",
      "provenance": [],
      "collapsed_sections": [],
      "include_colab_link": true
    },
    "kernelspec": {
      "name": "python3",
      "display_name": "Python 3"
    }
  },
  "cells": [
    {
      "cell_type": "markdown",
      "metadata": {
        "id": "view-in-github",
        "colab_type": "text"
      },
      "source": [
        "<a href=\"https://colab.research.google.com/github/Guilli12pm/ML_proj/blob/master/project_ML.ipynb\" target=\"_parent\"><img src=\"https://colab.research.google.com/assets/colab-badge.svg\" alt=\"Open In Colab\"/></a>"
      ]
    },
    {
      "cell_type": "markdown",
      "metadata": {
        "id": "hbcRNqoyRKyC",
        "colab_type": "text"
      },
      "source": [
        "Machine Learning project"
      ]
    },
    {
      "cell_type": "code",
      "metadata": {
        "id": "YNKGkq-5RGk3",
        "colab_type": "code",
        "outputId": "db22081f-efd6-45c0-ed33-a746e9c15c6c",
        "colab": {
          "base_uri": "https://localhost:8080/",
          "height": 136
        }
      },
      "source": [
        "!git clone https://github.com/Guilli12pm/ML_proj"
      ],
      "execution_count": 4,
      "outputs": [
        {
          "output_type": "stream",
          "text": [
            "Cloning into 'ML_proj'...\n",
            "remote: Enumerating objects: 209, done.\u001b[K\n",
            "remote: Counting objects: 100% (209/209), done.\u001b[K\n",
            "remote: Compressing objects: 100% (181/181), done.\u001b[K\n",
            "remote: Total 209 (delta 62), reused 161 (delta 24), pack-reused 0\u001b[K\n",
            "Receiving objects: 100% (209/209), 16.66 MiB | 20.55 MiB/s, done.\n",
            "Resolving deltas: 100% (62/62), done.\n"
          ],
          "name": "stdout"
        }
      ]
    },
    {
      "cell_type": "code",
      "metadata": {
        "id": "xUZJNh8ORr0F",
        "colab_type": "code",
        "outputId": "a2bea6be-f909-4693-a726-1d323b4de83f",
        "colab": {
          "base_uri": "https://localhost:8080/",
          "height": 136
        }
      },
      "source": [
        "!ls ML_proj/"
      ],
      "execution_count": 7,
      "outputs": [
        {
          "output_type": "stream",
          "text": [
            "check_photos.py\t\t\t     haarcascade_smile.xml\n",
            "create_data.py\t\t\t     next_ite\n",
            "Database\t\t\t     project_ML.ipynb\n",
            "eyes_check.py\t\t\t     __pycache__\n",
            "haarcascade_eye_tree_eyeglasses.xml  README.md\n",
            "haarcascade_eye.xml\t\t     reset.py\n",
            "haarcascade_frontalface_default.xml\n"
          ],
          "name": "stdout"
        }
      ]
    },
    {
      "cell_type": "code",
      "metadata": {
        "id": "Fp9k-8DZZzxK",
        "colab_type": "code",
        "colab": {}
      },
      "source": [
        ""
      ],
      "execution_count": 0,
      "outputs": []
    }
  ]
}