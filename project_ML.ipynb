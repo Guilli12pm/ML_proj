{
  "nbformat": 4,
  "nbformat_minor": 0,
  "metadata": {
    "colab": {
      "name": "project_ML.ipynb",
      "version": "0.3.2",
      "provenance": [],
      "collapsed_sections": [],
      "include_colab_link": true
    },
    "kernelspec": {
      "name": "python3",
      "display_name": "Python 3"
    }
  },
  "cells": [
    {
      "cell_type": "markdown",
      "metadata": {
        "id": "view-in-github",
        "colab_type": "text"
      },
      "source": [
        "<a href=\"https://colab.research.google.com/github/Guilli12pm/ML_proj/blob/master/project_ML.ipynb\" target=\"_parent\"><img src=\"https://colab.research.google.com/assets/colab-badge.svg\" alt=\"Open In Colab\"/></a>"
      ]
    },
    {
      "cell_type": "markdown",
      "metadata": {
        "id": "hbcRNqoyRKyC",
        "colab_type": "text"
      },
      "source": [
        "Machine Learning project"
      ]
    },
    {
      "cell_type": "code",
      "metadata": {
        "id": "YNKGkq-5RGk3",
        "colab_type": "code",
        "outputId": "aa4767c2-353b-4391-9472-b312d734b7af",
        "colab": {
          "base_uri": "https://localhost:8080/",
          "height": 139
        }
      },
      "source": [
        "!git clone https://github.com/Guilli12pm/ML_proj"
      ],
      "execution_count": 1,
      "outputs": [
        {
          "output_type": "stream",
          "text": [
            "Cloning into 'ML_proj'...\n",
            "remote: Enumerating objects: 218, done.\u001b[K\n",
            "remote: Counting objects: 100% (218/218), done.\u001b[K\n",
            "remote: Compressing objects: 100% (190/190), done.\u001b[K\n",
            "remote: Total 218 (delta 67), reused 161 (delta 24), pack-reused 0\u001b[K\n",
            "Receiving objects: 100% (218/218), 16.67 MiB | 19.75 MiB/s, done.\n",
            "Resolving deltas: 100% (67/67), done.\n"
          ],
          "name": "stdout"
        }
      ]
    },
    {
      "cell_type": "code",
      "metadata": {
        "id": "xUZJNh8ORr0F",
        "colab_type": "code",
        "outputId": "003232b3-4c8b-46a7-9da6-5bd1eaf7397b",
        "colab": {
          "base_uri": "https://localhost:8080/",
          "height": 139
        }
      },
      "source": [
        "!ls ML_proj/"
      ],
      "execution_count": 2,
      "outputs": [
        {
          "output_type": "stream",
          "text": [
            "check_photos.py\t\t\t     haarcascade_smile.xml\n",
            "create_data.py\t\t\t     images.ipynb\n",
            "Database\t\t\t     next_ite\n",
            "eyes_check.py\t\t\t     project_ML.ipynb\n",
            "haarcascade_eye_tree_eyeglasses.xml  __pycache__\n",
            "haarcascade_eye.xml\t\t     README.md\n",
            "haarcascade_frontalface_default.xml  reset.py\n"
          ],
          "name": "stdout"
        }
      ]
    },
    {
      "cell_type": "code",
      "metadata": {
        "id": "Fp9k-8DZZzxK",
        "colab_type": "code",
        "colab": {}
      },
      "source": [
        "!ls ML_proj/next_ite/"
      ],
      "execution_count": 0,
      "outputs": []
    },
    {
      "cell_type": "code",
      "metadata": {
        "id": "0UTLLb-4Xudm",
        "colab_type": "code",
        "colab": {}
      },
      "source": [
        ""
      ],
      "execution_count": 0,
      "outputs": []
    },
    {
      "cell_type": "code",
      "metadata": {
        "id": "V77RXBQQXv2V",
        "colab_type": "code",
        "colab": {}
      },
      "source": [
        ""
      ],
      "execution_count": 0,
      "outputs": []
    }
  ]
}